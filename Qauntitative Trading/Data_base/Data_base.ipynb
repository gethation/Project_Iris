{
 "cells": [
  {
   "cell_type": "code",
   "execution_count": 1,
   "metadata": {},
   "outputs": [
    {
     "name": "stdout",
     "output_type": "stream",
     "text": [
      "輸入成功!\n"
     ]
    }
   ],
   "source": [
    "from finlab import login, data\n",
    "\n",
    "# 登入 FinLab (請填入您在 FinLab 網站申請的 API token)\n",
    "login('TsQjZ57Cu9ZM7IrQHw30NsuzJ6qgWh6VT7oX717CEJKTlAugseXgJLwVsFMXZTCE#free')"
   ]
  },
  {
   "cell_type": "code",
   "execution_count": 3,
   "metadata": {},
   "outputs": [
    {
     "name": "stdout",
     "output_type": "stream",
     "text": [
      "Daily usage: 238.3 / 500 MB - price:成交股數\n"
     ]
    }
   ],
   "source": [
    "from finlab import data\n",
    "\n",
    "# 取得所有股票的「收盤價」資料（資料格式為 pandas DataFrame）\n",
    "open_prices = data.get('price:開盤價')\n",
    "high_prices = data.get('price:最高價')\n",
    "low_prices = data.get('price:最低價')\n",
    "close_prices = data.get('price:收盤價')\n",
    "volume = data.get('price:成交股數')"
   ]
  },
  {
   "cell_type": "code",
   "execution_count": 4,
   "metadata": {},
   "outputs": [],
   "source": [
    "import pandas as pd\n",
    "\n",
    "# open, high, low, close, volume 都是 DataFrame\n",
    "# 索引(index)=日期, 欄位(columns)=股票代號\n",
    "\n",
    "df_open = open_prices.stack().rename('open')\n",
    "df_high = high_prices.stack().rename('high')\n",
    "df_low  = low_prices.stack().rename('low')\n",
    "df_close= close_prices.stack().rename('close')\n",
    "df_vol  = volume.stack().rename('volume')\n",
    "\n",
    "\n",
    "df_ohlcv_long = pd.concat([df_open, df_high, df_low, df_close, df_vol], axis=1)\n",
    "\n",
    "result_dict = {}\n",
    "for sym, subdf in df_ohlcv_long.groupby(level='symbol'):\n",
    "    # subdf 的索引是 (date, symbol)，先把 symbol 這層移除\n",
    "    subdf = subdf.droplevel('symbol')\n",
    "    # 可以順便按照日期排序\n",
    "    subdf = subdf.sort_index()\n",
    "    # 存到字典 result_dict 裡，以股票代號 sym 當 key\n",
    "    result_dict[sym] = subdf\n",
    "\n",
    "# DataFrame (index=日期, columns=[open, high, low, close, volume])"
   ]
  },
  {
   "cell_type": "code",
   "execution_count": 10,
   "metadata": {},
   "outputs": [],
   "source": [
    "import pickle\n",
    "\n",
    "with open(r'ALL_stock_DATE_OHLC_dict.pkl', 'wb') as f:\n",
    "    pickle.dump(result_dict, f)"
   ]
  },
  {
   "cell_type": "code",
   "execution_count": 12,
   "metadata": {},
   "outputs": [],
   "source": [
    "for sym, df_ohlc in result_dict.items():\n",
    "    csv_filename = fr\"ALL_stock_DATE_OHLC_dict/{sym}.csv\"\n",
    "    df_ohlc.to_csv(csv_filename)"
   ]
  }
 ],
 "metadata": {
  "kernelspec": {
   "display_name": "v10-16",
   "language": "python",
   "name": "python3"
  },
  "language_info": {
   "codemirror_mode": {
    "name": "ipython",
    "version": 3
   },
   "file_extension": ".py",
   "mimetype": "text/x-python",
   "name": "python",
   "nbconvert_exporter": "python",
   "pygments_lexer": "ipython3",
   "version": "3.10.16"
  }
 },
 "nbformat": 4,
 "nbformat_minor": 2
}
