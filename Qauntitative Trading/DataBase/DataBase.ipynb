{
 "cells": [
  {
   "cell_type": "markdown",
   "metadata": {},
   "source": [
    "# Get the stock price in TWSE"
   ]
  },
  {
   "cell_type": "code",
   "execution_count": 1,
   "metadata": {},
   "outputs": [
    {
     "name": "stdout",
     "output_type": "stream",
     "text": [
      "輸入成功!\n"
     ]
    }
   ],
   "source": [
    "from finlab import login, data\n",
    "\n",
    "# 登入 FinLab (請填入您在 FinLab 網站申請的 API token)\n",
    "login('TsQjZ57Cu9ZM7IrQHw30NsuzJ6qgWh6VT7oX717CEJKTlAugseXgJLwVsFMXZTCE#free')"
   ]
  },
  {
   "cell_type": "code",
   "execution_count": 3,
   "metadata": {},
   "outputs": [
    {
     "name": "stdout",
     "output_type": "stream",
     "text": [
      "Daily usage: 238.3 / 500 MB - price:成交股數\n"
     ]
    }
   ],
   "source": [
    "from finlab import data\n",
    "\n",
    "# 取得所有股票的「收盤價」資料（資料格式為 pandas DataFrame）\n",
    "open_prices = data.get('price:開盤價')\n",
    "high_prices = data.get('price:最高價')\n",
    "low_prices = data.get('price:最低價')\n",
    "close_prices = data.get('price:收盤價')\n",
    "volume = data.get('price:成交股數')"
   ]
  },
  {
   "cell_type": "code",
   "execution_count": 4,
   "metadata": {},
   "outputs": [],
   "source": [
    "import pandas as pd\n",
    "\n",
    "# open, high, low, close, volume 都是 DataFrame\n",
    "# 索引(index)=日期, 欄位(columns)=股票代號\n",
    "\n",
    "df_open = open_prices.stack().rename('open')\n",
    "df_high = high_prices.stack().rename('high')\n",
    "df_low  = low_prices.stack().rename('low')\n",
    "df_close= close_prices.stack().rename('close')\n",
    "df_vol  = volume.stack().rename('volume')\n",
    "\n",
    "\n",
    "df_ohlcv_long = pd.concat([df_open, df_high, df_low, df_close, df_vol], axis=1)\n",
    "\n",
    "result_dict = {}\n",
    "for sym, subdf in df_ohlcv_long.groupby(level='symbol'):\n",
    "    # subdf 的索引是 (date, symbol)，先把 symbol 這層移除\n",
    "    subdf = subdf.droplevel('symbol')\n",
    "    # 可以順便按照日期排序\n",
    "    subdf = subdf.sort_index()\n",
    "    # 存到字典 result_dict 裡，以股票代號 sym 當 key\n",
    "    result_dict[sym] = subdf\n",
    "\n",
    "# DataFrame (index=日期, columns=[open, high, low, close, volume])"
   ]
  },
  {
   "cell_type": "code",
   "execution_count": 10,
   "metadata": {},
   "outputs": [],
   "source": [
    "import pickle\n",
    "\n",
    "with open(r'ALL_stock_DATE_OHLC_dict.pkl', 'wb') as f:\n",
    "    pickle.dump(result_dict, f)"
   ]
  },
  {
   "cell_type": "code",
   "execution_count": 12,
   "metadata": {},
   "outputs": [],
   "source": [
    "for sym, df_ohlc in result_dict.items():\n",
    "    csv_filename = fr\"ALL_stock_DATE_OHLC_dict/{sym}.csv\"\n",
    "    df_ohlc.to_csv(csv_filename)"
   ]
  },
  {
   "cell_type": "markdown",
   "metadata": {},
   "source": [
    "# Get the BTC price form CryptoDataDownload"
   ]
  },
  {
   "cell_type": "code",
   "execution_count": null,
   "metadata": {},
   "outputs": [
    {
     "name": "stdout",
     "output_type": "stream",
     "text": [
      "CSV 檔案已儲存：BTCUSDT_1m_data.csv\n"
     ]
    },
    {
     "ename": "",
     "evalue": "",
     "output_type": "error",
     "traceback": [
      "\u001b[1;31m在目前儲存格或上一個儲存格中執行程式碼時，Kernel 已損毀。\n",
      "\u001b[1;31m請檢閱儲存格中的程式碼，找出失敗的可能原因。\n",
      "\u001b[1;31m如需詳細資訊，請按一下<a href='https://aka.ms/vscodeJupyterKernelCrash'>這裡</a>。\n",
      "\u001b[1;31m如需詳細資料，請檢視 Jupyter <a href='command:jupyter.viewOutput'>記錄</a>。"
     ]
    }
   ],
   "source": [
    "import requests\n",
    "import pandas as pd\n",
    "\n",
    "def get_binance_klines(symbol, interval, limit=500):\n",
    "    \"\"\"\n",
    "    從 Binance API 取得 K 線資料\n",
    "\n",
    "    參數:\n",
    "        symbol (str): 交易對，例如 \"BTCUSDT\"\n",
    "        interval (str): 時間間隔，例如 \"1m\" 代表 1 分鐘\n",
    "        limit (int): 取得資料筆數 (每次最多 1000 筆)\n",
    "    \n",
    "    回傳:\n",
    "        pd.DataFrame: 含有 OHLC 及其他欄位的 DataFrame\n",
    "    \"\"\"\n",
    "    url = \"https://api.binance.com/api/v3/klines\"\n",
    "    params = {\n",
    "        \"symbol\": symbol,\n",
    "        \"interval\": interval,\n",
    "        \"limit\": limit\n",
    "    }\n",
    "    response = requests.get(url, params=params)\n",
    "    data = response.json()\n",
    "\n",
    "    # 定義回傳欄位\n",
    "    columns = [\n",
    "        'open_time', 'open', 'high', 'low', 'close', 'volume', \n",
    "        'close_time', 'quote_asset_volume', 'number_of_trades', \n",
    "        'taker_buy_base_asset_volume', 'taker_buy_quote_asset_volume', 'ignore'\n",
    "    ]\n",
    "    \n",
    "    df = pd.DataFrame(data, columns=columns)\n",
    "    \n",
    "    # 將時間戳記轉換為 datetime 格式\n",
    "    df['open_time'] = pd.to_datetime(df['open_time'], unit='ms')\n",
    "    df['close_time'] = pd.to_datetime(df['close_time'], unit='ms')\n",
    "    \n",
    "    return df\n",
    "\n",
    "# 取得最新 10 筆 1 分鐘 K 線資料\n",
    "df = get_binance_klines(\"BTCUSDT\", \"1m\", limit=1000)\n",
    "\n",
    "# 將 DataFrame 儲存成 CSV 檔案（不儲存 index）\n",
    "df.to_csv(\"BTCUSDT_1m_data.csv\", index=False, encoding=\"utf-8-sig\")\n",
    "\n",
    "print(\"CSV 檔案已儲存：BTCUSDT_1m_data.csv\")"
   ]
  }
 ],
 "metadata": {
  "kernelspec": {
   "display_name": "v10-16",
   "language": "python",
   "name": "python3"
  },
  "language_info": {
   "codemirror_mode": {
    "name": "ipython",
    "version": 3
   },
   "file_extension": ".py",
   "mimetype": "text/x-python",
   "name": "python",
   "nbconvert_exporter": "python",
   "pygments_lexer": "ipython3",
   "version": "3.10.16"
  }
 },
 "nbformat": 4,
 "nbformat_minor": 2
}
