{
 "cells": [
  {
   "cell_type": "code",
   "execution_count": 1,
   "id": "800f626a",
   "metadata": {},
   "outputs": [
    {
     "name": "stdout",
     "output_type": "stream",
     "text": [
      "Testnet 合约账户余额 {'FDUSD': 0.0, 'BNB': 0.0, 'ETH': 0.0, 'BTC': 0.0, 'USDT': 14989.09034402, 'USDC': 0.0}\n"
     ]
    },
    {
     "data": {
      "text/plain": [
       "{'symbol': 'BTCUSDT', 'leverage': '5', 'maxNotionalValue': '100000000'}"
      ]
     },
     "execution_count": 1,
     "metadata": {},
     "output_type": "execute_result"
    }
   ],
   "source": [
    "import ccxt\n",
    "\n",
    "exchange = ccxt.binance({\n",
    "    'apiKey': 'cc0ca83dfe29326a123d6f6603f16261144a86c53ffac0212c8afe96400139e3',\n",
    "    'secret': 'f8c2ae97a77fd609b28792064685b52bd197d12d293c2edadb032c5585daa749',\n",
    "    'enableRateLimit': True,\n",
    "    'options': {\n",
    "        'defaultType': 'future',   # 默认使用永续合约\n",
    "    },\n",
    "})\n",
    "\n",
    "exchange.set_sandbox_mode(True)\n",
    "\n",
    "# 查询合约账户余额\n",
    "balance = exchange.fetch_balance({'type': 'future'})\n",
    "print('Testnet 合约账户余额', balance['total'])\n",
    "\n",
    "# 下一个限价卖单\n",
    "# symbol = 'BTC/USDT'\n",
    "# order = exchange.create_order(\n",
    "#     symbol,\n",
    "#     'limit',\n",
    "#     'sell',\n",
    "#     0.001,\n",
    "#     60000,               # 测试环境可随意写一个价格\n",
    "#     {'timeInForce': 'GTC'}\n",
    "# )\n",
    "# print('Testnet 合约下单', order)\n",
    "symbol = 'BTC/USDT'\n",
    "exchange.set_leverage(5, symbol)"
   ]
  },
  {
   "cell_type": "code",
   "execution_count": 2,
   "id": "bce96c2a",
   "metadata": {},
   "outputs": [
    {
     "name": "stdout",
     "output_type": "stream",
     "text": [
      "{'info': {'orderId': '4433456100', 'symbol': 'BTCUSDT', 'status': 'FILLED', 'clientOrderId': 'x-cvBPrNm92b2a4f5a522d0bb603a36a', 'price': '0.00', 'avgPrice': '103021.29000', 'origQty': '0.010', 'executedQty': '0.010', 'cumQty': '0.010', 'cumQuote': '1030.21290', 'timeInForce': 'GTC', 'type': 'MARKET', 'reduceOnly': False, 'closePosition': False, 'side': 'BUY', 'positionSide': 'BOTH', 'stopPrice': '0.00', 'workingType': 'CONTRACT_PRICE', 'priceProtect': False, 'origType': 'MARKET', 'priceMatch': 'NONE', 'selfTradePreventionMode': 'EXPIRE_MAKER', 'goodTillDate': '0', 'updateTime': '1747447424638'}, 'id': '4433456100', 'clientOrderId': 'x-cvBPrNm92b2a4f5a522d0bb603a36a', 'timestamp': 1747447424638, 'datetime': '2025-05-17T02:03:44.638Z', 'lastTradeTimestamp': 1747447424638, 'lastUpdateTimestamp': 1747447424638, 'symbol': 'BTC/USDT:USDT', 'type': 'market', 'timeInForce': 'GTC', 'postOnly': False, 'reduceOnly': False, 'side': 'buy', 'price': 103021.29, 'triggerPrice': None, 'amount': 0.01, 'cost': 1030.2129, 'average': 103021.29, 'filled': 0.01, 'remaining': 0.0, 'status': 'closed', 'fee': None, 'trades': [], 'fees': [], 'stopPrice': None, 'takeProfitPrice': None, 'stopLossPrice': None}\n"
     ]
    }
   ],
   "source": [
    "symbol = 'BTC/USDT'      # 交易对\n",
    "side   = 'buy'           # 'buy' 或 'sell'\n",
    "amount = 0.01           # 交易数量\n",
    "\n",
    "order = exchange.create_order(\n",
    "    symbol=symbol,\n",
    "    type='market',\n",
    "    side=side,\n",
    "    amount=amount,\n",
    ")\n",
    "print(order)\n",
    "\n"
   ]
  },
  {
   "cell_type": "code",
   "execution_count": 5,
   "id": "be811381",
   "metadata": {},
   "outputs": [
    {
     "name": "stdout",
     "output_type": "stream",
     "text": [
      "4433468904\n"
     ]
    }
   ],
   "source": [
    "price = 110000.0          # 下单价格\n",
    "\n",
    "order = exchange.create_order(\n",
    "    symbol=symbol,\n",
    "    type='limit',\n",
    "    side=side,\n",
    "    amount=amount,\n",
    "    price=price,\n",
    "    params={                # Binance 特有参数\n",
    "        'timeInForce': 'GTC'  # GTC, IOC, FOK\n",
    "    }\n",
    ")\n",
    "print(order['id'])"
   ]
  },
  {
   "cell_type": "code",
   "execution_count": 3,
   "id": "07428243",
   "metadata": {},
   "outputs": [
    {
     "name": "stdout",
     "output_type": "stream",
     "text": [
      "{'info': {'orderId': '4423328431', 'symbol': 'BTCUSDT', 'status': 'NEW', 'clientOrderId': 'x-cvBPrNm9b2cbc20cb325630307a94', 'price': '50000', 'avgPrice': '0', 'origQty': '0.010', 'executedQty': '0', 'cumQuote': '0.00000', 'timeInForce': 'GTC', 'type': 'LIMIT', 'reduceOnly': False, 'closePosition': False, 'side': 'BUY', 'positionSide': 'BOTH', 'stopPrice': '0', 'workingType': 'CONTRACT_PRICE', 'priceProtect': False, 'origType': 'LIMIT', 'priceMatch': 'NONE', 'selfTradePreventionMode': 'EXPIRE_MAKER', 'goodTillDate': '0', 'time': '1747131262260', 'updateTime': '1747131262260'}, 'id': '4423328431', 'clientOrderId': 'x-cvBPrNm9b2cbc20cb325630307a94', 'timestamp': 1747131262260, 'datetime': '2025-05-13T10:14:22.260Z', 'lastTradeTimestamp': None, 'lastUpdateTimestamp': 1747131262260, 'symbol': 'BTC/USDT:USDT', 'type': 'limit', 'timeInForce': 'GTC', 'postOnly': False, 'reduceOnly': False, 'side': 'buy', 'price': 50000.0, 'triggerPrice': None, 'amount': 0.01, 'cost': 0.0, 'average': None, 'filled': 0.0, 'remaining': 0.01, 'status': 'open', 'fee': None, 'trades': [], 'fees': [], 'stopPrice': None, 'takeProfitPrice': None, 'stopLossPrice': None}\n",
      "{'info': {'orderId': '4423328440', 'symbol': 'BTCUSDT', 'status': 'NEW', 'clientOrderId': 'x-cvBPrNm93fa107661822711eb0a995', 'price': '50000', 'avgPrice': '0', 'origQty': '0.010', 'executedQty': '0', 'cumQuote': '0.00000', 'timeInForce': 'GTC', 'type': 'LIMIT', 'reduceOnly': False, 'closePosition': False, 'side': 'BUY', 'positionSide': 'BOTH', 'stopPrice': '0', 'workingType': 'CONTRACT_PRICE', 'priceProtect': False, 'origType': 'LIMIT', 'priceMatch': 'NONE', 'selfTradePreventionMode': 'EXPIRE_MAKER', 'goodTillDate': '0', 'time': '1747131262974', 'updateTime': '1747131262974'}, 'id': '4423328440', 'clientOrderId': 'x-cvBPrNm93fa107661822711eb0a995', 'timestamp': 1747131262974, 'datetime': '2025-05-13T10:14:22.974Z', 'lastTradeTimestamp': None, 'lastUpdateTimestamp': 1747131262974, 'symbol': 'BTC/USDT:USDT', 'type': 'limit', 'timeInForce': 'GTC', 'postOnly': False, 'reduceOnly': False, 'side': 'buy', 'price': 50000.0, 'triggerPrice': None, 'amount': 0.01, 'cost': 0.0, 'average': None, 'filled': 0.0, 'remaining': 0.01, 'status': 'open', 'fee': None, 'trades': [], 'fees': [], 'stopPrice': None, 'takeProfitPrice': None, 'stopLossPrice': None}\n",
      "{'info': {'orderId': '4423328462', 'symbol': 'BTCUSDT', 'status': 'NEW', 'clientOrderId': 'x-cvBPrNm9f36158febe98d895bb508f', 'price': '50000', 'avgPrice': '0', 'origQty': '0.010', 'executedQty': '0', 'cumQuote': '0.00000', 'timeInForce': 'GTC', 'type': 'LIMIT', 'reduceOnly': False, 'closePosition': False, 'side': 'BUY', 'positionSide': 'BOTH', 'stopPrice': '0', 'workingType': 'CONTRACT_PRICE', 'priceProtect': False, 'origType': 'LIMIT', 'priceMatch': 'NONE', 'selfTradePreventionMode': 'EXPIRE_MAKER', 'goodTillDate': '0', 'time': '1747131263635', 'updateTime': '1747131263635'}, 'id': '4423328462', 'clientOrderId': 'x-cvBPrNm9f36158febe98d895bb508f', 'timestamp': 1747131263635, 'datetime': '2025-05-13T10:14:23.635Z', 'lastTradeTimestamp': None, 'lastUpdateTimestamp': 1747131263635, 'symbol': 'BTC/USDT:USDT', 'type': 'limit', 'timeInForce': 'GTC', 'postOnly': False, 'reduceOnly': False, 'side': 'buy', 'price': 50000.0, 'triggerPrice': None, 'amount': 0.01, 'cost': 0.0, 'average': None, 'filled': 0.0, 'remaining': 0.01, 'status': 'open', 'fee': None, 'trades': [], 'fees': [], 'stopPrice': None, 'takeProfitPrice': None, 'stopLossPrice': None}\n",
      "{'info': {'orderId': '4423328476', 'symbol': 'BTCUSDT', 'status': 'NEW', 'clientOrderId': 'x-cvBPrNm9c7e9b0687eed3f968dada8', 'price': '50000', 'avgPrice': '0', 'origQty': '0.010', 'executedQty': '0', 'cumQuote': '0.00000', 'timeInForce': 'GTC', 'type': 'LIMIT', 'reduceOnly': False, 'closePosition': False, 'side': 'BUY', 'positionSide': 'BOTH', 'stopPrice': '0', 'workingType': 'CONTRACT_PRICE', 'priceProtect': False, 'origType': 'LIMIT', 'priceMatch': 'NONE', 'selfTradePreventionMode': 'EXPIRE_MAKER', 'goodTillDate': '0', 'time': '1747131264413', 'updateTime': '1747131264413'}, 'id': '4423328476', 'clientOrderId': 'x-cvBPrNm9c7e9b0687eed3f968dada8', 'timestamp': 1747131264413, 'datetime': '2025-05-13T10:14:24.413Z', 'lastTradeTimestamp': None, 'lastUpdateTimestamp': 1747131264413, 'symbol': 'BTC/USDT:USDT', 'type': 'limit', 'timeInForce': 'GTC', 'postOnly': False, 'reduceOnly': False, 'side': 'buy', 'price': 50000.0, 'triggerPrice': None, 'amount': 0.01, 'cost': 0.0, 'average': None, 'filled': 0.0, 'remaining': 0.01, 'status': 'open', 'fee': None, 'trades': [], 'fees': [], 'stopPrice': None, 'takeProfitPrice': None, 'stopLossPrice': None}\n"
     ]
    }
   ],
   "source": [
    "open_orders = exchange.fetch_open_orders(symbol)\n",
    "for o in open_orders:\n",
    "    print(o)"
   ]
  },
  {
   "cell_type": "code",
   "execution_count": 20,
   "id": "b66514db",
   "metadata": {},
   "outputs": [
    {
     "name": "stdout",
     "output_type": "stream",
     "text": [
      "{'info': {'orderId': '4423328410', 'symbol': 'BTCUSDT', 'status': 'CANCELED', 'clientOrderId': 'x-cvBPrNm972db11b11c704875ec2862', 'price': '50000.00', 'avgPrice': '0.00', 'origQty': '0.010', 'executedQty': '0.000', 'cumQty': '0.000', 'cumQuote': '0.00000', 'timeInForce': 'GTC', 'type': 'LIMIT', 'reduceOnly': False, 'closePosition': False, 'side': 'BUY', 'positionSide': 'BOTH', 'stopPrice': '0.00', 'workingType': 'CONTRACT_PRICE', 'priceProtect': False, 'origType': 'LIMIT', 'priceMatch': 'NONE', 'selfTradePreventionMode': 'EXPIRE_MAKER', 'goodTillDate': '0', 'updateTime': '1747131389959'}, 'id': '4423328410', 'clientOrderId': 'x-cvBPrNm972db11b11c704875ec2862', 'timestamp': 1747131389959, 'datetime': '2025-05-13T10:16:29.959Z', 'lastTradeTimestamp': None, 'lastUpdateTimestamp': 1747131389959, 'symbol': 'BTC/USDT:USDT', 'type': 'limit', 'timeInForce': 'GTC', 'postOnly': False, 'reduceOnly': False, 'side': 'buy', 'price': 50000.0, 'triggerPrice': None, 'amount': 0.01, 'cost': 0.0, 'average': None, 'filled': 0.0, 'remaining': 0.01, 'status': 'canceled', 'fee': None, 'trades': [], 'fees': [], 'stopPrice': None, 'takeProfitPrice': None, 'stopLossPrice': None}\n"
     ]
    }
   ],
   "source": [
    "order_id = '4423328410'    # 上一步下单返回的订单 ID\n",
    "\n",
    "result = exchange.cancel_order(\n",
    "    id=order_id,\n",
    "    symbol=symbol,\n",
    ")\n",
    "print(result)"
   ]
  },
  {
   "cell_type": "code",
   "execution_count": 22,
   "id": "60e6f0a5",
   "metadata": {},
   "outputs": [
    {
     "name": "stdout",
     "output_type": "stream",
     "text": [
      "{'FDUSD': 0.0, 'BNB': 0.0, 'ETH': 0.0, 'BTC': 0.0, 'USDT': 14789.09034402, 'USDC': 0.0}\n",
      "{'FDUSD': 0.0, 'BNB': 0.0, 'ETH': 0.0, 'BTC': 0.0, 'USDT': 200.0, 'USDC': 0.0}\n",
      "{'FDUSD': 0.0, 'BNB': 0.0, 'ETH': 0.0, 'BTC': 0.0, 'USDT': 14989.09034402, 'USDC': 0.0}\n"
     ]
    }
   ],
   "source": [
    "balance = exchange.fetch_balance()\n",
    "# balance 是一个 dict，包含 free、used、total 三种余额信息\n",
    "print(balance['free'])   # 可用余额\n",
    "print(balance['used'])   # 冻结保证金\n",
    "print(balance['total'])  # 总余额\n"
   ]
  }
 ],
 "metadata": {
  "kernelspec": {
   "display_name": "v10-16",
   "language": "python",
   "name": "python3"
  },
  "language_info": {
   "codemirror_mode": {
    "name": "ipython",
    "version": 3
   },
   "file_extension": ".py",
   "mimetype": "text/x-python",
   "name": "python",
   "nbconvert_exporter": "python",
   "pygments_lexer": "ipython3",
   "version": "3.10.16"
  }
 },
 "nbformat": 4,
 "nbformat_minor": 5
}
