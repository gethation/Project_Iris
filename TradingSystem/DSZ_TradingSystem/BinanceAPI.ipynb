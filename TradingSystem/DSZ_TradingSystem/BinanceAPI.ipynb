{
 "cells": [
  {
   "cell_type": "code",
   "execution_count": 18,
   "id": "2535aaf0",
   "metadata": {},
   "outputs": [],
   "source": [
    "from binance.client import Client\n",
    "import pandas as pd\n",
    "client = Client(\"cc0ca83dfe29326a123d6f6603f16261144a86c53ffac0212c8afe96400139e3\", \n",
    "                \"f8c2ae97a77fd609b28792064685b52bd197d12d293c2edadb032c5585daa749\", testnet=True)"
   ]
  },
  {
   "cell_type": "markdown",
   "id": "476ec052",
   "metadata": {},
   "source": [
    "## Account Info"
   ]
  },
  {
   "cell_type": "code",
   "execution_count": 56,
   "id": "898ada36",
   "metadata": {},
   "outputs": [
    {
     "name": "stdout",
     "output_type": "stream",
     "text": [
      "     accountAlias  asset         balance crossWalletBalance  crossUnPnl  \\\n",
      "0  fWfWXqSgXqmYfW  FDUSD      0.00000000         0.00000000  0.00000000   \n",
      "1  fWfWXqSgXqmYfW    BNB      0.00000000         0.00000000  0.00000000   \n",
      "2  fWfWXqSgXqmYfW    ETH      0.00000000         0.00000000  0.00000000   \n",
      "3  fWfWXqSgXqmYfW    BTC      0.00000000         0.00000000  0.00000000   \n",
      "4  fWfWXqSgXqmYfW   USDT  14973.17018678     14973.17018678  1.40961231   \n",
      "\n",
      "  availableBalance maxWithdrawAmount  marginAvailable           updateTime  \n",
      "0       0.00000000        0.00000000             True  1970-01-01 00:00:00  \n",
      "1       0.00000000        0.00000000             True  1970-01-01 00:00:00  \n",
      "2       0.00000000        0.00000000             True  1970-01-01 00:00:00  \n",
      "3       0.00000000        0.00000000             True  1970-01-01 00:00:00  \n",
      "4   13978.73922555    13978.73922555             True  2025-05-08 13:28:09  \n"
     ]
    }
   ],
   "source": [
    "from binance.client import Client\n",
    "import pandas as pd\n",
    "client = Client(\"cc0ca83dfe29326a123d6f6603f16261144a86c53ffac0212c8afe96400139e3\", \n",
    "                \"f8c2ae97a77fd609b28792064685b52bd197d12d293c2edadb032c5585daa749\", testnet=True)\n",
    "account_info = client.futures_account_balance()\n",
    "df = pd.DataFrame(account_info)\n",
    "df['updateTime'] = pd.to_datetime(df['updateTime'], unit='ms', errors='coerce')\n",
    "df['updateTime'] = df['updateTime'].dt.strftime('%Y-%m-%d %H:%M:%S').fillna('N/A')\n",
    "\n",
    "print(df.head())"
   ]
  },
  {
   "cell_type": "code",
   "execution_count": 60,
   "id": "f03f51c8",
   "metadata": {},
   "outputs": [
    {
     "name": "stdout",
     "output_type": "stream",
     "text": [
      "总钱包余额: 14968.91529919 USDT\n",
      "可用余额: 14968.91529919 USDT\n",
      "被锁定保证金≈ 0.00000000 USDT\n"
     ]
    }
   ],
   "source": [
    "fut = client.futures_account_balance()\n",
    "usdt = next(x for x in fut if x['asset']=='USDT')\n",
    "total_wallet = float(usdt['balance'])\n",
    "available = float(usdt['availableBalance'])\n",
    "print(f\"总钱包余额: {total_wallet} USDT\")\n",
    "print(f\"可用余额: {available} USDT\")\n",
    "print(f\"被锁定保证金≈ {total_wallet-available:.8f} USDT\")\n"
   ]
  },
  {
   "cell_type": "code",
   "execution_count": 62,
   "id": "6126b2d4",
   "metadata": {},
   "outputs": [
    {
     "name": "stdout",
     "output_type": "stream",
     "text": [
      "USDT 餘額： 14968.91529919\n"
     ]
    }
   ],
   "source": [
    "futures_balances = client.futures_account_balance()\n",
    "usdt_entry = next((item for item in futures_balances if item['asset'] == 'USDT'), None)\n",
    "if usdt_entry:\n",
    "    print(\"USDT 餘額：\", usdt_entry['balance'])\n",
    "else:\n",
    "    print(\"未找到 USDT 項目\")"
   ]
  },
  {
   "cell_type": "code",
   "execution_count": 80,
   "id": "bc9576c5",
   "metadata": {},
   "outputs": [
    {
     "name": "stdout",
     "output_type": "stream",
     "text": [
      "[{'symbol': 'BTCUSDT', 'positionSide': 'BOTH', 'positionAmt': '0.010', 'entryPrice': '99250.0', 'breakEvenPrice': '99289.7', 'markPrice': '99266.58143116', 'unRealizedProfit': '0.16581431', 'liquidationPrice': '0', 'isolatedMargin': '0', 'notional': '992.66581431', 'marginAsset': 'USDT', 'isolatedWallet': '0', 'initialMargin': '99.26658143', 'maintMargin': '3.97066325', 'positionInitialMargin': '99.26658143', 'openOrderInitialMargin': '0', 'adl': 1, 'bidNotional': '0', 'askNotional': '0', 'updateTime': 1746711817110}]\n",
      "合约：BTCUSDT, 持仓量：0.010, 未实现盈亏：0.16581431\n"
     ]
    }
   ],
   "source": [
    "positions = client.futures_position_information()\n",
    "\n",
    "print(positions)\n",
    "for pos in positions:\n",
    "    print(f\"合约：{pos['symbol']}, 持仓量：{pos['positionAmt']}, 未实现盈亏：{pos['unRealizedProfit']}\")"
   ]
  },
  {
   "cell_type": "markdown",
   "id": "a5a69d8a",
   "metadata": {},
   "source": [
    "## DOM and Price"
   ]
  },
  {
   "cell_type": "code",
   "execution_count": 4,
   "id": "458b9a3f",
   "metadata": {},
   "outputs": [
    {
     "name": "stdout",
     "output_type": "stream",
     "text": [
      "            price      volume\n",
      "0  96610.15000000  0.06268000\n",
      "1  96610.14000000  0.08680000\n",
      "2  96609.90000000  0.08737000\n",
      "3  96609.87000000  0.08504000\n",
      "4  96609.17000000  0.09482000 {'symbol': 'BTCUSDT', 'price': '96611.12000000'}\n"
     ]
    }
   ],
   "source": [
    "# from binance.client import Client\n",
    "# import pandas as pd\n",
    "# client = Client(\"cc0ca83dfe29326a123d6f6603f16261144a86c53ffac0212c8afe96400139e3\", \n",
    "#                 \"f8c2ae97a77fd609b28792064685b52bd197d12d293c2edadb032c5585daa749\", testnet=True)\n",
    "\n",
    "ticker = client.get_symbol_ticker(symbol=\"BTCUSDT\")\n",
    "depth = client.get_order_book(symbol=\"BTCUSDT\", limit=100)\n",
    "\n",
    "df = pd.DataFrame(depth['bids'], columns=['price', 'volume'])\n",
    "\n",
    "print(df.head(), ticker)"
   ]
  },
  {
   "cell_type": "code",
   "execution_count": 17,
   "id": "719fee5e",
   "metadata": {},
   "outputs": [
    {
     "name": "stdout",
     "output_type": "stream",
     "text": [
      "[[1746601440000, '96610.15000000', '96621.00000000', '96610.15000000', '96621.00000000', '1.79147000', 1746601499999, '173083.18607500', 92, '1.66721000', '161077.70509340', '0']]\n"
     ]
    }
   ],
   "source": [
    "klines = client.get_klines(symbol=\"BTCUSDT\", interval=Client.KLINE_INTERVAL_1MINUTE, limit=1)\n",
    "print(klines)"
   ]
  },
  {
   "cell_type": "code",
   "execution_count": null,
   "id": "eaf0fdad",
   "metadata": {},
   "outputs": [
    {
     "name": "stdout",
     "output_type": "stream",
     "text": [
      "99278.65500000001\n"
     ]
    }
   ],
   "source": [
    "ticker = client.futures_symbol_ticker(symbol=\"BTCUSDT\")\n",
    "\n",
    "depth = client.futures_order_book(\n",
    "    symbol=\"BTCUSDT\",\n",
    "    limit=100\n",
    ")\n",
    "\n",
    "df = pd.DataFrame(depth['bids'], columns=['price', 'volume'])\n",
    "\n",
    "# print(df.head())\n",
    "print()"
   ]
  },
  {
   "cell_type": "code",
   "execution_count": 3,
   "id": "41c2eefa",
   "metadata": {},
   "outputs": [
    {
     "name": "stdout",
     "output_type": "stream",
     "text": [
      "97334.40\n"
     ]
    }
   ],
   "source": [
    "from binance.client import Client\n",
    "import pandas as pd\n",
    "client = Client(\"cc0ca83dfe29326a123d6f6603f16261144a86c53ffac0212c8afe96400139e3\", \n",
    "                \"f8c2ae97a77fd609b28792064685b52bd197d12d293c2edadb032c5585daa749\", testnet=True)\n",
    "SYMBOL = \"BTCUSDT\"  # Trading pair\n",
    "INTERVAL = Client.KLINE_INTERVAL_1MINUTE  # 5-minute K-line interval\n",
    "LIMIT = 2  # Fetch only the most recent bar\n",
    "klines = client.futures_klines(symbol=SYMBOL, interval=INTERVAL, limit=LIMIT)\n",
    "print(klines[-1][4])"
   ]
  },
  {
   "cell_type": "code",
   "execution_count": 66,
   "id": "d4962493",
   "metadata": {},
   "outputs": [
    {
     "name": "stdout",
     "output_type": "stream",
     "text": [
      "限价单下单结果： {'orderId': 4408838965, 'symbol': 'BTCUSDT', 'status': 'NEW', 'clientOrderId': 'x-Cb7ytekJec793a12fc280983770c67', 'price': '104212.00', 'avgPrice': '0.00', 'origQty': '0.010', 'executedQty': '0.000', 'cumQty': '0.000', 'cumQuote': '0.00000', 'timeInForce': 'GTC', 'type': 'LIMIT', 'reduceOnly': False, 'closePosition': False, 'side': 'BUY', 'positionSide': 'BOTH', 'stopPrice': '0.00', 'workingType': 'CONTRACT_PRICE', 'priceProtect': False, 'origType': 'LIMIT', 'priceMatch': 'NONE', 'selfTradePreventionMode': 'EXPIRE_MAKER', 'goodTillDate': 0, 'updateTime': 1746711817110}\n"
     ]
    }
   ],
   "source": [
    "from binance.enums import (\n",
    "    SIDE_BUY,\n",
    "    SIDE_SELL,\n",
    "    ORDER_TYPE_LIMIT,\n",
    "    TIME_IN_FORCE_GTC\n",
    ")\n",
    "\n",
    "\n",
    "symbol     = \"BTCUSDT\"     # 交易对\n",
    "quantity   = 0.01         # 买入数量\n",
    "time_in_force = TIME_IN_FORCE_GTC  # 挂单策略，GTC = 好到取消\n",
    "ticker = client.futures_symbol_ticker(symbol=\"BTCUSDT\")\n",
    "\n",
    "\n",
    "order = client.futures_create_order(\n",
    "    symbol=symbol,\n",
    "    side=SIDE_BUY,\n",
    "    type=ORDER_TYPE_LIMIT,\n",
    "    timeInForce=time_in_force,\n",
    "    quantity=quantity,\n",
    "    price=int(float(ticker['price'])*1.05)\n",
    ")\n",
    "\n",
    "print(\"限价单下单结果：\", order)"
   ]
  },
  {
   "cell_type": "code",
   "execution_count": 35,
   "id": "702be0f4",
   "metadata": {},
   "outputs": [
    {
     "ename": "BinanceAPIException",
     "evalue": "APIError(code=-2022): ReduceOnly Order is rejected.",
     "output_type": "error",
     "traceback": [
      "\u001b[31m---------------------------------------------------------------------------\u001b[39m",
      "\u001b[31mBinanceAPIException\u001b[39m                       Traceback (most recent call last)",
      "\u001b[32m~\\AppData\\Local\\Temp\\ipykernel_7680\\1214166232.py\u001b[39m in \u001b[36m?\u001b[39m\u001b[34m()\u001b[39m\n\u001b[32m----> \u001b[39m\u001b[32m1\u001b[39m order = client.futures_create_order(\n\u001b[32m      2\u001b[39m     symbol=symbol,\n\u001b[32m      3\u001b[39m     side=SIDE_SELL,\n\u001b[32m      4\u001b[39m     type=ORDER_TYPE_LIMIT,\n",
      "\u001b[32mc:\\Users\\Huang\\anaconda3\\envs\\v12-9\\Lib\\site-packages\\binance\\client.py\u001b[39m in \u001b[36m?\u001b[39m\u001b[34m(self, **params)\u001b[39m\n\u001b[32m   7655\u001b[39m \n\u001b[32m   7656\u001b[39m         \"\"\"\n\u001b[32m   7657\u001b[39m         \u001b[38;5;28;01mif\u001b[39;00m \u001b[33m\"newClientOrderId\"\u001b[39m \u001b[38;5;28;01mnot\u001b[39;00m \u001b[38;5;28;01min\u001b[39;00m params:\n\u001b[32m   7658\u001b[39m             params[\u001b[33m\"newClientOrderId\"\u001b[39m] = self.CONTRACT_ORDER_PREFIX + self.uuid22()\n\u001b[32m-> \u001b[39m\u001b[32m7659\u001b[39m         \u001b[38;5;28;01mreturn\u001b[39;00m self._request_futures_api(\u001b[33m\"post\"\u001b[39m, \u001b[33m\"order\"\u001b[39m, \u001b[38;5;28;01mTrue\u001b[39;00m, data=params)\n",
      "\u001b[32mc:\\Users\\Huang\\anaconda3\\envs\\v12-9\\Lib\\site-packages\\binance\\client.py\u001b[39m in \u001b[36m?\u001b[39m\u001b[34m(self, method, path, signed, version, **kwargs)\u001b[39m\n\u001b[32m    122\u001b[39m         version = self._get_version(version, **kwargs)\n\u001b[32m    123\u001b[39m         uri = self._create_futures_api_uri(path, version)\n\u001b[32m    124\u001b[39m         force_params = kwargs.pop(\u001b[33m\"force_params\"\u001b[39m, \u001b[38;5;28;01mFalse\u001b[39;00m)\n\u001b[32m    125\u001b[39m \n\u001b[32m--> \u001b[39m\u001b[32m126\u001b[39m         \u001b[38;5;28;01mreturn\u001b[39;00m self._request(method, uri, signed, force_params, **kwargs)\n",
      "\u001b[32mc:\\Users\\Huang\\anaconda3\\envs\\v12-9\\Lib\\site-packages\\binance\\client.py\u001b[39m in \u001b[36m?\u001b[39m\u001b[34m(self, method, uri, signed, force_params, **kwargs)\u001b[39m\n\u001b[32m     85\u001b[39m             url_encoded_data = urlencode(dict_data)\n\u001b[32m     86\u001b[39m             data = f\"{url_encoded_data}&signature={signature}\"\n\u001b[32m     87\u001b[39m \n\u001b[32m     88\u001b[39m         self.response = getattr(self.session, method)(uri, headers=headers, data=data, **kwargs)\n\u001b[32m---> \u001b[39m\u001b[32m89\u001b[39m         \u001b[38;5;28;01mreturn\u001b[39;00m self._handle_response(self.response)\n",
      "\u001b[32mc:\\Users\\Huang\\anaconda3\\envs\\v12-9\\Lib\\site-packages\\binance\\client.py\u001b[39m in \u001b[36m?\u001b[39m\u001b[34m(response)\u001b[39m\n\u001b[32m     94\u001b[39m         Raises the appropriate exceptions when necessary; otherwise, returns the\n\u001b[32m     95\u001b[39m         response.\n\u001b[32m     96\u001b[39m         \"\"\"\n\u001b[32m     97\u001b[39m         \u001b[38;5;28;01mif\u001b[39;00m \u001b[38;5;28;01mnot\u001b[39;00m (\u001b[32m200\u001b[39m <= response.status_code < \u001b[32m300\u001b[39m):\n\u001b[32m---> \u001b[39m\u001b[32m98\u001b[39m             \u001b[38;5;28;01mraise\u001b[39;00m BinanceAPIException(response, response.status_code, response.text)\n\u001b[32m     99\u001b[39m \n\u001b[32m    100\u001b[39m         \u001b[38;5;28;01mif\u001b[39;00m response.text == \u001b[33m\"\"\u001b[39m:\n\u001b[32m    101\u001b[39m             \u001b[38;5;28;01mreturn\u001b[39;00m {}\n",
      "\u001b[31mBinanceAPIException\u001b[39m: APIError(code=-2022): ReduceOnly Order is rejected."
     ]
    }
   ],
   "source": [
    "order = client.futures_create_order(\n",
    "    symbol=symbol,\n",
    "    side=SIDE_SELL,\n",
    "    type=ORDER_TYPE_LIMIT,\n",
    "    timeInForce=time_in_force,\n",
    "    quantity=quantity,\n",
    "    price=int(float(ticker['price'])*0.95),\n",
    "    reduceOnly=True\n",
    ")\n",
    "\n",
    "print(\"限价单下单结果：\", order)"
   ]
  }
 ],
 "metadata": {
  "kernelspec": {
   "display_name": "v12-9",
   "language": "python",
   "name": "python3"
  },
  "language_info": {
   "codemirror_mode": {
    "name": "ipython",
    "version": 3
   },
   "file_extension": ".py",
   "mimetype": "text/x-python",
   "name": "python",
   "nbconvert_exporter": "python",
   "pygments_lexer": "ipython3",
   "version": "3.12.9"
  }
 },
 "nbformat": 4,
 "nbformat_minor": 5
}
